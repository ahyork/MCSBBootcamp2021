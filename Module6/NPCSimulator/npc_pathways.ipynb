{
 "cells": [
  {
   "cell_type": "code",
   "execution_count": null,
   "id": "6a9dd32e",
   "metadata": {},
   "outputs": [],
   "source": [
    "# get all the packages\n",
    "\n",
    "using Printf\n",
    "using PyPlot\n",
    "using Distributions"
   ]
  },
  {
   "cell_type": "code",
   "execution_count": null,
   "id": "24f8aeb4",
   "metadata": {},
   "outputs": [],
   "source": [
    "L = 10.0\n",
    "l = L / 2"
   ]
  },
  {
   "cell_type": "code",
   "execution_count": null,
   "id": "f5289622",
   "metadata": {},
   "outputs": [],
   "source": [
    "@inline function enforce_bounds!(xs::Array{Float64, 1})\n",
    "    #xs[abs.(xs) .> L / 2] = sign.(xs[abs.(xs) .> L / 2]) .* L ./ 2\n",
    "    for i in 1:length(xs)\n",
    "        if xs[i] > l\n",
    "            xs[i] = l\n",
    "        elseif xs[i] < -l\n",
    "            xs[i] = -l\n",
    "        end\n",
    "    end\n",
    "end"
   ]
  },
  {
   "cell_type": "code",
   "execution_count": null,
   "id": "b6c898d9",
   "metadata": {},
   "outputs": [],
   "source": [
    "@time enforce_bounds!([-6.0, 6.0])"
   ]
  },
  {
   "cell_type": "code",
   "execution_count": null,
   "id": "d3a1e946",
   "metadata": {},
   "outputs": [],
   "source": [
    "@inline function box_muller(alpha::Float64)::Array{Float64, 1}\n",
    "    r1 = rand()\n",
    "    r2 = rand()\n",
    "    \n",
    "    ys = alpha .* [sqrt(-2 * log(r1 * sign(r1))) * cos(r2), sqrt(-2 * log(r1 * sign(r1))) * sin(r2)]\n",
    "    return ys\n",
    "end"
   ]
  },
  {
   "cell_type": "code",
   "execution_count": null,
   "id": "4f38f431",
   "metadata": {},
   "outputs": [],
   "source": [
    "@time box_muller(2.75)"
   ]
  },
  {
   "cell_type": "code",
   "execution_count": null,
   "id": "75e8a4ec",
   "metadata": {},
   "outputs": [],
   "source": [
    "function npc_simulation(D::Float64;\n",
    "                        ntmax::Float64=1e6, dt::Float64=0.001, n_samples::Int64=2000)::Array{Float64, 1}\n",
    "    # define array for storing the time it takes to reach the npc from the starting position\n",
    "    time_capture = Array{Float64, 1}(undef, n_samples)\n",
    "    \n",
    "    # define the normal distribution for randomly perturbing\n",
    "    alpha = sqrt(2 * D * dt)\n",
    "    move_distr = Normal(0.0, alpha)\n",
    "    \n",
    "    # define the location of the npc for capture\n",
    "    NPCLocation = [-l, 0]\n",
    "    NPCSize = 0.01\n",
    "    NPCSize_sqr = NPCSize ^ 2\n",
    "    \n",
    "    #define xs here so it doesn't need to reallocate\n",
    "    xs = [-1.0, -1.0]\n",
    "    \n",
    "    # iterate through the number of samples to find the timing requirement\n",
    "    for sample_num in 1:n_samples  \n",
    "        xs .= [l, 0]\n",
    "        # iterate through the time for the given sample\n",
    "        for i in 1:ntmax\n",
    "            # perturb the particle by a random amount based on our normal distribution\n",
    "            #xs .+= box_muller(alpha)\n",
    "            xs .+= vec(rand(move_distr, (2, 1)))\n",
    "            \n",
    "            # ensure that the particle stays within the bounds of the simulation\n",
    "            enforce_bounds!(xs)\n",
    "            \n",
    "            # test for capture\n",
    "            if (sum((xs .- NPCLocation) .^ 2) < NPCSize_sqr)\n",
    "                time_capture[sample_num] = dt * i\n",
    "                break\n",
    "            end\n",
    "        end\n",
    "    end\n",
    "    \n",
    "    return time_capture\n",
    "end"
   ]
  },
  {
   "cell_type": "code",
   "execution_count": null,
   "id": "063af915",
   "metadata": {},
   "outputs": [],
   "source": [
    "@time npc_simulation(10.0; n_samples=1)\n",
    "@time npc_simulation(10.0)"
   ]
  },
  {
   "cell_type": "code",
   "execution_count": null,
   "id": "96995137",
   "metadata": {},
   "outputs": [],
   "source": []
  },
  {
   "cell_type": "code",
   "execution_count": null,
   "id": "6a08052e",
   "metadata": {},
   "outputs": [],
   "source": []
  }
 ],
 "metadata": {
  "kernelspec": {
   "display_name": "Julia 1.6.2",
   "language": "julia",
   "name": "julia-1.6"
  },
  "language_info": {
   "file_extension": ".jl",
   "mimetype": "application/julia",
   "name": "julia",
   "version": "1.6.2"
  }
 },
 "nbformat": 4,
 "nbformat_minor": 5
}
