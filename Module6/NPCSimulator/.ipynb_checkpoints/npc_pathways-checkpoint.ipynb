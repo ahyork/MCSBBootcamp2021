{
 "cells": [
  {
   "cell_type": "code",
   "execution_count": 1,
   "id": "6a9dd32e",
   "metadata": {},
   "outputs": [],
   "source": [
    "# get all the packages\n",
    "\n",
    "using Printf\n",
    "using PyPlot\n",
    "using Distributions"
   ]
  },
  {
   "cell_type": "code",
   "execution_count": 2,
   "id": "24f8aeb4",
   "metadata": {},
   "outputs": [
    {
     "data": {
      "text/plain": [
       "5.0"
      ]
     },
     "execution_count": 2,
     "metadata": {},
     "output_type": "execute_result"
    }
   ],
   "source": [
    "L = 10.0\n",
    "l = L / 2"
   ]
  },
  {
   "cell_type": "code",
   "execution_count": 3,
   "id": "f5289622",
   "metadata": {},
   "outputs": [
    {
     "data": {
      "text/plain": [
       "enforce_bounds! (generic function with 1 method)"
      ]
     },
     "execution_count": 3,
     "metadata": {},
     "output_type": "execute_result"
    }
   ],
   "source": [
    "@inline function enforce_bounds!(xs::Array{Float64, 1})\n",
    "    #xs[abs.(xs) .> L / 2] = sign.(xs[abs.(xs) .> L / 2]) .* L ./ 2\n",
    "    for i in 1:length(xs)\n",
    "        if xs[i] > l\n",
    "            xs[i] = l\n",
    "        elseif xs[i] < -l\n",
    "            xs[i] = -l\n",
    "        end\n",
    "    end\n",
    "end"
   ]
  },
  {
   "cell_type": "code",
   "execution_count": 12,
   "id": "b6c898d9",
   "metadata": {},
   "outputs": [
    {
     "name": "stdout",
     "output_type": "stream",
     "text": [
      "  0.000081 seconds (6 allocations: 176 bytes)\n",
      "  0.000021 seconds (6 allocations: 176 bytes)\n"
     ]
    }
   ],
   "source": [
    "@time enforce_bounds!([-6.0, 6.0])\n",
    "@time enforce_bounds!([-6.0, 6.0])"
   ]
  },
  {
   "cell_type": "code",
   "execution_count": 5,
   "id": "d3a1e946",
   "metadata": {},
   "outputs": [
    {
     "data": {
      "text/plain": [
       "box_muller (generic function with 1 method)"
      ]
     },
     "execution_count": 5,
     "metadata": {},
     "output_type": "execute_result"
    }
   ],
   "source": [
    "@inline function box_muller(alpha::Float64)::Array{Float64, 1}\n",
    "    r1 = rand()\n",
    "    r2 = rand()\n",
    "    \n",
    "    ys = alpha .* [sqrt(-2 * log(r1 * sign(r1))) * cos(r2), sqrt(-2 * log(r1 * sign(r1))) * sin(r2)]\n",
    "    return ys\n",
    "end"
   ]
  },
  {
   "cell_type": "code",
   "execution_count": 11,
   "id": "4f38f431",
   "metadata": {},
   "outputs": [
    {
     "name": "stdout",
     "output_type": "stream",
     "text": [
      "  0.000010 seconds (2 allocations: 192 bytes)\n",
      "  0.000046 seconds (3 allocations: 176 bytes)\n",
      "  0.000026 seconds (3 allocations: 176 bytes)\n"
     ]
    },
    {
     "data": {
      "text/plain": [
       "2-element Vector{Float64}:\n",
       " -0.35509959389699947\n",
       "  0.6892850950659325"
      ]
     },
     "execution_count": 11,
     "metadata": {},
     "output_type": "execute_result"
    }
   ],
   "source": [
    "@time box_muller(2.75)\n",
    "\n",
    "d = Normal(0.0, sqrt(0.2))\n",
    "@time vec(rand(d, (2, 1)))\n",
    "@time vec(rand(d, (2, 1)))\n",
    "\n",
    "# timing the if statement\n"
   ]
  },
  {
   "cell_type": "code",
   "execution_count": 7,
   "id": "75e8a4ec",
   "metadata": {},
   "outputs": [
    {
     "data": {
      "text/plain": [
       "npc_simulation (generic function with 1 method)"
      ]
     },
     "execution_count": 7,
     "metadata": {},
     "output_type": "execute_result"
    }
   ],
   "source": [
    "function npc_simulation(D::Float64;\n",
    "                        ntmax::Int64=1000000, dt::Float64=0.001, n_samples::Int64=2000)::Array{Float64, 1}\n",
    "    # define array for storing the time it takes to reach the npc from the starting position\n",
    "    time_capture = Array{Float64, 1}(undef, n_samples)\n",
    "    \n",
    "    # define the normal distribution for randomly perturbing\n",
    "    alpha = sqrt(2 * D * dt)\n",
    "    move_distr = Normal(0.0, alpha)\n",
    "    \n",
    "    # define the location of the npc for capture\n",
    "    NPCLocation = [-l, 0]\n",
    "    NPCSize = 0.01\n",
    "    NPCSize_sqr = NPCSize ^ 2\n",
    "    \n",
    "    #define xs here so it doesn't need to reallocate\n",
    "    xs = [-1.0, -1.0]\n",
    "    \n",
    "    # iterate through the number of samples to find the timing requirement\n",
    "    for sample_num in 1:n_samples  \n",
    "        xs .= [l, 0]\n",
    "        # iterate through the time for the given sample\n",
    "        for i in 1:ntmax\n",
    "            # perturb the particle by a random amount based on our normal distribution\n",
    "            #xs .+= box_muller(alpha)\n",
    "            xs .+= vec(rand(move_distr, (2, 1))) # 0.000026 sec\n",
    "            \n",
    "            # ensure that the particle stays within the bounds of the simulation\n",
    "            enforce_bounds!(xs) # 0.000021 sec\n",
    "            \n",
    "            # test for capture\n",
    "            if (sum((xs .- NPCLocation) .^ 2) < NPCSize_sqr)\n",
    "                time_capture[sample_num] = dt * i\n",
    "                break\n",
    "            end\n",
    "        end\n",
    "    end\n",
    "    \n",
    "    return time_capture\n",
    "end"
   ]
  },
  {
   "cell_type": "code",
   "execution_count": 14,
   "id": "063af915",
   "metadata": {},
   "outputs": [
    {
     "name": "stdout",
     "output_type": "stream",
     "text": [
      "  0.006469 seconds (58.87 k allocations: 1.851 MiB)\n",
      " 19.243009 seconds (319.88 M allocations: 9.822 GiB, 7.49% gc time)\n"
     ]
    },
    {
     "data": {
      "text/plain": [
       "2000-element Vector{Float64}:\n",
       "  4.2666653923611526e-96\n",
       "  8.403910823230095e-144\n",
       "  4.925638182135127e-19\n",
       "  4.269504862678804e-96\n",
       "  3.3850000000000002\n",
       "  4.506090117172908e-144\n",
       "  5.058\n",
       "  1.0e-323\n",
       "  1.5e-323\n",
       "  6.774\n",
       "  4.48873775243271e-144\n",
       "  5.979\n",
       "  0.0\n",
       "  ⋮\n",
       "  1.170761878602008e214\n",
       "  7.685289035912386e170\n",
       "  8.554\n",
       "  6.972835901332908e228\n",
       "  8.411706244534349e-143\n",
       "  3.1\n",
       "  7.53726599176981e-143\n",
       "  9.258000000000001\n",
       "  1.9943243863457783e209\n",
       "  4.5062416420165675e-144\n",
       "  4.328843906450166e-96\n",
       " -8.867111132804477e-305"
      ]
     },
     "execution_count": 14,
     "metadata": {},
     "output_type": "execute_result"
    }
   ],
   "source": [
    "@time npc_simulation(10.0; n_samples=1)\n",
    "@time npc_simulation(10.0; ntmax=10000)"
   ]
  },
  {
   "cell_type": "code",
   "execution_count": null,
   "id": "6a08052e",
   "metadata": {},
   "outputs": [],
   "source": []
  }
 ],
 "metadata": {
  "kernelspec": {
   "display_name": "Julia 1.6.2",
   "language": "julia",
   "name": "julia-1.6"
  },
  "language_info": {
   "file_extension": ".jl",
   "mimetype": "application/julia",
   "name": "julia",
   "version": "1.6.2"
  }
 },
 "nbformat": 4,
 "nbformat_minor": 5
}
